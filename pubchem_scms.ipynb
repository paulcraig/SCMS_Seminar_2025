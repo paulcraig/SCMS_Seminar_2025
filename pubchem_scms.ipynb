{
 "cells": [
  {
   "cell_type": "markdown",
   "id": "89ae66cb-f067-47fa-9c5f-1a921751a800",
   "metadata": {},
   "source": [
    "# Getting Started with PubChemPy\n",
    "This notebooks is designed to introduced you to PubChemPy, a library for working with [PubChem](https://www.example.com) resource. To use pubchempy, you'll need to either use the command\n",
    "\n",
    "```pip install pubchempy```\n",
    "\n",
    "on your command line or use the command\n",
    "\n",
    "```!pip install pubchempy```\n",
    "\n",
    "in the first coding cell in this notebook."
   ]
  },
  {
   "cell_type": "code",
   "execution_count": 1,
   "id": "1c05cb04-7272-4231-b924-e1c5429a0f80",
   "metadata": {},
   "outputs": [
    {
     "name": "stdout",
     "output_type": "stream",
     "text": [
      "Requirement already satisfied: pubchempy in /opt/anaconda3/lib/python3.12/site-packages (1.0.4)\n"
     ]
    }
   ],
   "source": [
    "!pip install pubchempy"
   ]
  },
  {
   "cell_type": "markdown",
   "id": "ccfff721-cdf4-4520-b36b-848627e50fd0",
   "metadata": {},
   "source": [
    "It's not enough to have it installed on your computer. You need to tell the Jupyter notebook to access the library."
   ]
  },
  {
   "cell_type": "code",
   "execution_count": 2,
   "id": "8e9863c0-5311-4ed8-9818-3ddb589789a7",
   "metadata": {},
   "outputs": [],
   "source": [
    "import pubchempy as pcp"
   ]
  },
  {
   "cell_type": "markdown",
   "id": "374df2ac-2bcb-4a16-9071-904a670a6955",
   "metadata": {},
   "source": [
    "We are just going to look at a few things that you can do with PubChemPy, which accesses the [PubChem database](https://pubchem.ncbi.nlm.nih.gov/). We'll learn\n",
    "1. How to access a molecule using its chemical ID#.\n",
    "2. How to access a molecule by name\n",
    "3. Some of the things we can learn about the molecule once we have its chemical ID#\n",
    "4. How to visualize the molecule\n",
    "\n",
    "We'll start looking at a molecule called NAD+ that I worked with almost every day in graduate school. It looks like this and its compound ID# is 5892.\n",
    "\n",
    "![2D image of NAD+](images/NAD.png \"The 2D structure of redox cofactor NAD+\")"
   ]
  },
  {
   "cell_type": "code",
   "execution_count": 4,
   "id": "187eb77f-3a32-4b2d-8143-0e2493207a87",
   "metadata": {},
   "outputs": [],
   "source": [
    "molecule = pcp.Compound.from_cid(5892)"
   ]
  },
  {
   "cell_type": "code",
   "execution_count": 5,
   "id": "ab60f01e-c868-477a-a21e-ebf029018aa5",
   "metadata": {},
   "outputs": [
    {
     "name": "stdout",
     "output_type": "stream",
     "text": [
      "663.4\n"
     ]
    }
   ],
   "source": [
    "print(molecule.molecular_weight)"
   ]
  },
  {
   "cell_type": "code",
   "execution_count": null,
   "id": "43125c7e-712d-48c8-9cc2-103d2ddce541",
   "metadata": {},
   "outputs": [],
   "source": [
    "# pcp.get_compounds('<enter the name of a compound here>', 'name', record_type='3d')"
   ]
  },
  {
   "cell_type": "code",
   "execution_count": 6,
   "id": "1a4139b3-8bc8-454d-a217-a9af03de8328",
   "metadata": {},
   "outputs": [
    {
     "name": "stdout",
     "output_type": "stream",
     "text": [
      "[[(2R,3S,4R,5R)-5-(6-aminopurin-9-yl)-3,4-dihydroxyoxolan-2-yl]methoxy-hydroxyphosphoryl] [(2R,3S,4R,5R)-5-(3-carbamoylpyridin-1-ium-1-yl)-3,4-dihydroxyoxolan-2-yl]methyl phosphate\n",
      "663.4\n",
      "C21H27N7O14P2\n",
      "['nadide', '53-84-9', 'coenzyme I', 'NAD+', 'beta-NAD', 'beta-nicotinamide adenine dinucleotide', 'Codehydrogenase I', 'diphosphopyridine nucleotide', 'Codehydrase I', 'nicotinamide adenine dinucleotide', 'beta-Diphosphopyridine nucleotide', 'Cozymase I', 'beta-NAD+', 'COZYMASE', 'Enzopride', 'Nadidum', 'Nicotinamide-adenine dinucleotide', 'NAD', 'codehydrogenase', 'Nadida', 'CO-I', 'Nicotinamide dinucleotide', 'Pyridine, nucleotide diphosphate', 'Adenine-nicotinamide dinucleotide', 'Nicotineamide adenine dinucleotide', 'Nadidum [INN-Latin]', 'NAD zwitterion', 'Nadida [INN-Spanish]', 'CO-1', 'beta-DPN', '.beta.-NAD', 'Nadide [USAN:INN:BAN:JAN]', 'EINECS 200-184-4', 'MFCD00036253', 'NSC 20272', 'BRN 3584133', '0U46U6E8UK', 'NADIDE [USAN]', 'NADIDUM [HPUS]', 'NADIDE [INN]', 'NADIDE [JAN]', 'NADIDE [WHO-DD]', 'NADIDE [MART.]', 'NSC-20272', 'NAD(SUP +)', \"3-Carbamoyl-1-beta-D-ribofuranosylpyridinium hydroxide, 5'-ester with adenosine 5'-pyrophosphate, inner salt\", 'DTXSID2045236', 'CHEBI:44215', 'Nicotinamide Adinine Dinucleotide', 'EC 200-184-4', '5-26-16-00399 (Beilstein Handbook Reference)', \"Adenosine 5'-(trihydrogen diphosphate), P'-5'-ester with 3-(aminocarbonyl)-1-beta-D-ribofuranosylpyridinium hydroxide, inner salt\", 'Nicotinamide adenine dinucleotide (NAD)', 'Nadidum (INN-Latin)', 'Coenzyme 1', 'Nadida (INN-Spanish)', 'NADIDE (MART.)', 'DPN-ox', '64417-72-7', 'NAD Lithium salt', 'Endopride', '1-((2R,3R,4S,5R)-5-((((((((2R,3S,4R,5R)-5-(6-Amino-9H-purin-9-yl)-3,4-dihydroxytetrahydrofuran-2-yl)methoxy)(hydroxy)phosphoryl)oxy)oxidophosphoryl)oxy)methyl)-3,4-dihydroxytetrahydrofuran-2-yl)-3-carbamoylpyridin-1-ium', \"Adenosine 5'-(trihydrogen diphosphate), 5'-5'-ester with 3-(aminocarbonyl)-1-beta-D-ribofuranosylpyridinium, hydroxide, inner salt\", \"Pyridinium, 3-carbamoyl-1-beta-D-ribofuranosyl-, hydroxide, 5'-ester with adenosine 5'-5'-(trihydrogen pyrophosphate), inner salt\", 'DPN+', 'NAD+, Free Acid', 'beta-Nicotinamide adenine dinucleotide hydrate', \"Adenosine 5'-(trihydrogen diphosphate), P'-5'-ester with 3-(aminocarbonyl)-1-beta-D-ribofuranosylpyridinium, inner salt\", \"3-CARBAMOYL-1-.BETA.-D-RIBOFURANOSYLPYRIDINIUM HYDROXIDE 5'->5'-ESTER WITH ADENOSINE 5'-(TRIHYDROGEN PYROPHOSPHATE) INNER SALT\", \"3-CARBAMOYL-1-.BETA.-D-RIBOFURANOSYLPYRIDINIUM HYDROXIDE, 5'-ESTER WITH ADENOSINE 5'-PYROPHOSPHATE, INNER SALT\", \"ADENOSINE 5'-(TRIHYDROGEN DIPHOSPHATE) P'->5'-ESTER WITH 3-(AMINOCARBONYL)-1-.BETA.-D-RIBOFURANOSYLPYRIDINIUM INNER SALT\", \"ADENOSINE 5'-(TRIHYDROGEN DIPHOSPHATE), 5'->5'-ESTER WITH 3-(AMINOCARBONYL)-1-.BETA.-D-RIBOFURANOSYLPYRIDINIUM, HYDROXIDE, INNER SALT\", \"Adenosine 5'-(trihydrogen diphosphate), P'->5'-ester with 3-(aminocarbonyl)-1-beta-D-ribofuranosylpyridinium, inner salt\", \"Adenosine 5'-(trihydrogen diphosphate), P'.fwdarw.5'-ester with 3-(aminocarbonyl)-1-beta-D-ribofuranosylpyridinium, inner salt\", 'Co I', 'nadid', 'UNII-0U46U6E8UK', 'b-Nicotinamide adenine dinucleotide', 'NADLithiumsalt', 'NSC20272', 'beta-Diphosphopyridinenucleotide', 'NAD trihydrate', 'betaNAD', 'betaNAD+', 'CAS-53-84-9', 'NCGC00016240-01', '(((2R,3S,4R,5R)-5-(6-aminopurin-9-yl)-3,4-dihydroxyoxolan-2-yl)methoxy-oxidophosphoryl) ((2R,3S,4R,5R)-5-(3-carbamoylpyridin-1-ium-1-yl)-3,4-dihydroxyoxolan-2-yl)methyl phosphate;hydron', '[[(2R,3S,4R,5R)-5-(6-aminopurin-9-yl)-3,4-dihydroxyoxolan-2-yl]methoxy-oxidophosphoryl] [(2R,3S,4R,5R)-5-(3-carbamoylpyridin-1-ium-1-yl)-3,4-dihydroxyoxolan-2-yl]methyl phosphate;hydron', 'Viatrexx-NAD Plus', 'NAD+ (Standard)', 'b-NAD, oxidised form', 'beta-NAD, oxidised form', '((2R,3S,4R,5R)-5-(6-aminopurin-9-yl)-3,4-dihydroxyoxolan-2-yl)methyl (((2R,3S,4R,5R)-5-(3-carbamoylpyridin-1-ium-1-yl)-3,4-dihydroxyoxolan-2-yl)methoxy-hydroxyphosphoryl) phosphate', '[(2R,3S,4R,5R)-5-(6-Aminopurin-9-yl)-3,4-dihydroxyoxolan-2-yl]methyl [[(2R,3S,4R,5R)-5-(3-carbamoylpyridin-1-ium-1-yl)-3,4-dihydroxyoxolan-2-yl]methoxy-hydroxyphosphoryl] phosphate', '[adenylate-32-P]-NAD', \"Adenosine 5'-(trihydrogen diphosphate), P'.fwdarw.5'-ester with 3-(aminocarbonyl)-1-.beta.-D-ribofuranosylpyridinium, inner salt\", 'Carbonyl [14C] NAD+', 'NAD [MI]', 'NAD, Grade I, free acid', '[adenylate-32-P]-NAD+', 'NAD, Grade II, free acid', 'SCHEMBL131544', 'SPECTRUM1500419', 'Pyridine nucleotide diphosphate', 'Adeninenicotinamide dinucleotide', 'betaDiphosphopyridine nucleotide', 'Nicotinamideadenine dinucleotide', 'GTPL2451', 'CHEMBL1234613', 'DTXCID0025236', 'HMS500J11', 'HY-B0445R', '[14C] NAD+', '[32P] NAD+', 'BDBM213227', 'GLXC-10877', 'HMS2091H06', 'HMS2097E04', 'HMS3714E04', 'Pharmakon1600-01500419', 'EX-A3535', 'HY-B0445', 'betaNicotinamide adenine dinucleotide', 'Tox21_110321', 'CCG-40114', 'MSK000609', 'NSC757121', 's2518', 'bera-Nicotinamide adenine dinucleotide', 'AKOS015892319', 'beta-nicotinamide adenine din-ucleotide', 'DB14128', 'NN11969', 'NSC-757121', '.beta.-Nicotinamide adenine dinucleotide', 'NCGC00178839-01', 'NCGC00178839-02', 'NCGC00178839-03', 'NCGC00178839-08', '[[(2R,3S,4R,5R)-5-(6-aminopurin-9-yl)-3,4-dihydroxyoxolan-2-yl]methoxy-hydroxyphosphoryl] [(2R,3S,4R,5R)-5-(3-carbamoylpyridin-1-ium-1-yl)-3,4-dihydroxyoxolan-2-yl]methyl phosphate', '|A-DPN; |A-NAD; Coenzyme 1; Nadide', 'AC-37031', 'AS-14652', 'BP-58726', 'SBI-0051451.P003', '1ST000609', 'AB00513910', 'D0919', 'NS00100300', '-DPN;-NAD;-Nicotinamide Adenine Dinucleotide', '?-NAD;Coenzyme 1;Diphosphopyridine nucleotide', 'beta-Nicotinamide adenine dinucleotide, reduced', 'NICOTINAMIDE ADENINE DINUCLEOTIDE [INCI]', 'AB00052048_03', 'beta-Nicotinamide adenine dinucleotide trihydrate', 'beta-Nicotinamide adenine dinucleotide hydrate, >=99%', 'Q12499775', '|A-Nicotinamide adenine dinucleotide pound NAD pound(c)', 'F45C0D6C-DA87-47BE-9975-7A5DE9CCB985', 'beta-Nicotinamide adenine dinucleotide hydrate, >=95% (HPLC)', 'beta-Nicotinamide adenine dinucleotide, pkg of 10 mg (per vial)', 'beta-Nicotinamide adenine dinucleotide, pkg of 20 mg (per vial)', 'beta-Nicotinamide adenine dinucleotide, pkg of 50 mg (per vial)', 'beta-Nicotinamide adenine dinucleotide hydrate, >=98%, BioUltra, from yeast', 'beta-Nicotinamide adenine dinucleotide hydrate, Grade AA-1, >=95% (HPLC)', \"3-Carbamoyl-1-D-ribofuranosylpyridinium hydroxide 5'-ester with adenosine 5'-pyrophosphate\", 'beta-Nicotinamide adenine dinucleotide hydrate, purified by column chromatography, >=99%', 'beta-Nicotinamide adenine dinucleotide hydrate, Vetec(TM) reagent grade, >=96.5%', '[(3S,2R,4R,5R)-5-(6-Aminopurin-9-yl)-3,4-dihydroxyoxolan-2-yl]methyl {[(3S,2R,4R,5R)-5-(3-carbamoylpyridyl)-3,4-dihydroxyoxolan-2-yl]methoxy}(hydroxyphosphoryl) hydrogen phosphate', '[(3S,2R,4R,5R)-5-(6-Aminopurin-9-yl)-3,4-dihydroxyoxolan-2-yl]methyl {[(3S,2R,4R,5R)-5-(3-carbamoylpyridyl)-3,4-dihydroxyoxolan-2-yl]methoxy}(hydroxyphosphoryl)hydrogen phosphate', '[[(2R,3S,4R,5R)-5-(6-aminopurin-9-yl)-3,4-dihydroxy-tetrahydrofuran-2-yl]methoxy-hydroxy-phosphoryl] [(2R,3S,4R,5R)-5-(3-carbamoylpyridin-1-ium-1-yl)-3,4-dihydroxy-tetrahydrofuran-2-yl]methyl hydrogen phosphate', '1-[(2R,3R,4S,5R)-5-{[({[(2R,3S,4R,5R)-5-(6-amino-9H-purin-9-yl)-3,4-dihydroxyoxolan-2-yl]methoxy}(hydroxy)phosphoryl phosphonato)oxy]methyl}-3,4-dihydroxyoxolan-2-yl]-3-carbamoyl-1-pyridin-1-ylium', '200-184-4', \"3-CARBAMOYL-1-BETA-D-RIBOFURANOSYLPYRIDINIUM HYDROXIDE 5'->5'-ESTER WITH ADENOSINE 5'-(TRIHYDROGEN PYROPHOSPHATE) INNER SALT\", \"3-Carbamoyl-1-Beta-D-Ribofuranosylpyridinium Hydroxide 5'-5'-Ester with Adenosine 5'-(Trihydrogen Pyrophosphate) Inner Salt\", \"3-Carbamoyl-1-beta-D-ribofuranosylpyridinium hydroxide 5'-ester with adenosine 5'-pyrophosphate inner salt\", \"3-Carbamoyl-1-beta-delta-ribofuranosylpyridinium hydroxide 5'-ester with adenosine 5'-pyrophosphate inner salt\", \"3-Carbamoyl-1-delta-ribofuranosylpyridinium hydroxide 5'-ester with adenosine 5'-pyrophosphate\", \"3Carbamoyl1betaDribofuranosylpyridinium hydroxide, 5'ester with adenosine 5'pyrophosphate, inner salt\", \"Adenosine 5'(trihydrogen diphosphate), 5'5'ester with 3(aminocarbonyl)1betaDribofuranosylpyridinium, hydroxide, inner salt\", \"Adenosine 5'(trihydrogen diphosphate), P'.fwdarw.5'ester with 3(aminocarbonyl)1betaDribofuranosylpyridinium, inner salt\", \"Adenosine 5'(trihydrogen diphosphate), P'>5'ester with 3(aminocarbonyl)1betaDribofuranosylpyridinium, inner salt\", \"Adenosine 5'(trihydrogen diphosphate), P'5'ester with 3(aminocarbonyl)1betaDribofuranosylpyridinium hydroxide, inner salt\", \"Adenosine 5'(trihydrogen diphosphate), P'5'ester with 3(aminocarbonyl)1betaDribofuranosylpyridinium, inner salt\", \"ADENOSINE 5'-(TRIHYDROGEN DIPHOSPHATE) P'->5'-ESTER WITH 3-(AMINOCARBONYL)-1-BETA-D-RIBOFURANOSYLPYRIDINIUM INNER SALT\", \"ADENOSINE 5'-(TRIHYDROGEN DIPHOSPHATE), 5'->5'-ESTER WITH 3-(AMINOCARBONYL)-1-BETA-D-RIBOFURANOSYLPYRIDINIUM, HYDROXIDE, INNER SALT\", \"Adenosine 5'-(trihydrogen diphosphate-P-32P), P'>5'-ester with 3-(aminocarbonyl)-1-beta-D-ribofuranosylpyridinium, inner salt (9CI)\", 'beta-Nicotinamide adenine dinucleotide hydrate, >=96.5% (HPLC), >=96.5% (spectrophotometric assay), from yeast', 'beta-Nicotinamide adenine dinucleotide hydrate, cell culture tested, >=96.5% (HPLC), >=96.5% (spectrophotometric assay), from yeast', \"Pyridinium, 3-carbamoyl-1-b-D-ribofuranosyl-, hydroxide, 5'-5'-ester with adenosine 5'-(trihydrogen pyrophosphate), inner salt (8CI)\", \"Pyridinium, 3carbamoyl1betaDribofuranosyl, hydroxide, 5'ester with adenosine 5'5'(trihydrogen pyrophosphate), inner salt\"]\n"
     ]
    }
   ],
   "source": [
    "print(molecule.iupac_name)\n",
    "print(molecule.molecular_weight)\n",
    "print(molecule.molecular_formula)\n",
    "print(molecule.synonyms)"
   ]
  },
  {
   "cell_type": "code",
   "execution_count": 7,
   "id": "a487aaf2-dc60-4376-ab21-d7f852c72449",
   "metadata": {
    "scrolled": true
   },
   "outputs": [
    {
     "data": {
      "application/3dmoljs_load.v0": "<div id=\"3dmolviewer_173981815286542\"  style=\"position: relative; width: 680px; height: 250px;\">\n        <p id=\"3dmolwarning_173981815286542\" style=\"background-color:#ffcccc;color:black\">3Dmol.js failed to load for some reason.  Please check your browser console for error messages.<br></p>\n        </div>\n<script>\n\nvar loadScriptAsync = function(uri){\n  return new Promise((resolve, reject) => {\n    //this is to ignore the existence of requirejs amd\n    var savedexports, savedmodule;\n    if (typeof exports !== 'undefined') savedexports = exports;\n    else exports = {}\n    if (typeof module !== 'undefined') savedmodule = module;\n    else module = {}\n\n    var tag = document.createElement('script');\n    tag.src = uri;\n    tag.async = true;\n    tag.onload = () => {\n        exports = savedexports;\n        module = savedmodule;\n        resolve();\n    };\n  var firstScriptTag = document.getElementsByTagName('script')[0];\n  firstScriptTag.parentNode.insertBefore(tag, firstScriptTag);\n});\n};\n\nif(typeof $3Dmolpromise === 'undefined') {\n$3Dmolpromise = null;\n  $3Dmolpromise = loadScriptAsync('https://cdnjs.cloudflare.com/ajax/libs/3Dmol/2.4.2/3Dmol-min.js');\n}\n\nvar viewer_173981815286542 = null;\nvar warn = document.getElementById(\"3dmolwarning_173981815286542\");\nif(warn) {\n    warn.parentNode.removeChild(warn);\n}\n$3Dmolpromise.then(function() {\nvar viewergrid_173981815286542 = null;\nviewergrid_173981815286542 = $3Dmol.createViewerGrid(document.getElementById(\"3dmolviewer_173981815286542\"),{rows: 1, cols: 3, control_all: true},{backgroundColor:\"white\"});\nviewer_173981815286542 = viewergrid_173981815286542[0][0];\n$3Dmol.download(\"cid:5892\", viewergrid_173981815286542[0][0], {}, function() {\n$3Dmol.download(\"cid:5892\", viewergrid_173981815286542[0][1], {}, function() {\n$3Dmol.download(\"cid:5892\", viewergrid_173981815286542[0][2], {}, function() {\nviewergrid_173981815286542[0][0].zoomTo();viewergrid_173981815286542[0][1].zoomTo();viewergrid_173981815286542[0][2].zoomTo();\tviewergrid_173981815286542[0][0].setStyle({\"line\": {\"linewidth\": 8}});\n\tviewergrid_173981815286542[0][1].setStyle({\"stick\": {\"colorscheme\": \"cyanCarbon\"}});\n\tviewergrid_173981815286542[0][2].setStyle({\"sphere\": {}});\n\tviewergrid_173981815286542[0][0].setBackgroundColor(\"#ebf4fb\");\n\tviewergrid_173981815286542[0][1].setBackgroundColor(\"#cda9fc\");\n\tviewergrid_173981815286542[0][2].setBackgroundColor(\"#e6e6e6\");\nviewergrid_173981815286542[0][2].render();\nviewergrid_173981815286542[0][1].render();\nviewergrid_173981815286542[0][0].render();\n})\n})\n})\n});\n</script>",
      "text/html": [
       "<div id=\"3dmolviewer_173981815286542\"  style=\"position: relative; width: 680px; height: 250px;\">\n",
       "        <p id=\"3dmolwarning_173981815286542\" style=\"background-color:#ffcccc;color:black\">3Dmol.js failed to load for some reason.  Please check your browser console for error messages.<br></p>\n",
       "        </div>\n",
       "<script>\n",
       "\n",
       "var loadScriptAsync = function(uri){\n",
       "  return new Promise((resolve, reject) => {\n",
       "    //this is to ignore the existence of requirejs amd\n",
       "    var savedexports, savedmodule;\n",
       "    if (typeof exports !== 'undefined') savedexports = exports;\n",
       "    else exports = {}\n",
       "    if (typeof module !== 'undefined') savedmodule = module;\n",
       "    else module = {}\n",
       "\n",
       "    var tag = document.createElement('script');\n",
       "    tag.src = uri;\n",
       "    tag.async = true;\n",
       "    tag.onload = () => {\n",
       "        exports = savedexports;\n",
       "        module = savedmodule;\n",
       "        resolve();\n",
       "    };\n",
       "  var firstScriptTag = document.getElementsByTagName('script')[0];\n",
       "  firstScriptTag.parentNode.insertBefore(tag, firstScriptTag);\n",
       "});\n",
       "};\n",
       "\n",
       "if(typeof $3Dmolpromise === 'undefined') {\n",
       "$3Dmolpromise = null;\n",
       "  $3Dmolpromise = loadScriptAsync('https://cdnjs.cloudflare.com/ajax/libs/3Dmol/2.4.2/3Dmol-min.js');\n",
       "}\n",
       "\n",
       "var viewer_173981815286542 = null;\n",
       "var warn = document.getElementById(\"3dmolwarning_173981815286542\");\n",
       "if(warn) {\n",
       "    warn.parentNode.removeChild(warn);\n",
       "}\n",
       "$3Dmolpromise.then(function() {\n",
       "var viewergrid_173981815286542 = null;\n",
       "viewergrid_173981815286542 = $3Dmol.createViewerGrid(document.getElementById(\"3dmolviewer_173981815286542\"),{rows: 1, cols: 3, control_all: true},{backgroundColor:\"white\"});\n",
       "viewer_173981815286542 = viewergrid_173981815286542[0][0];\n",
       "$3Dmol.download(\"cid:5892\", viewergrid_173981815286542[0][0], {}, function() {\n",
       "$3Dmol.download(\"cid:5892\", viewergrid_173981815286542[0][1], {}, function() {\n",
       "$3Dmol.download(\"cid:5892\", viewergrid_173981815286542[0][2], {}, function() {\n",
       "viewergrid_173981815286542[0][0].zoomTo();viewergrid_173981815286542[0][1].zoomTo();viewergrid_173981815286542[0][2].zoomTo();\tviewergrid_173981815286542[0][0].setStyle({\"line\": {\"linewidth\": 8}});\n",
       "\tviewergrid_173981815286542[0][1].setStyle({\"stick\": {\"colorscheme\": \"cyanCarbon\"}});\n",
       "\tviewergrid_173981815286542[0][2].setStyle({\"sphere\": {}});\n",
       "\tviewergrid_173981815286542[0][0].setBackgroundColor(\"#ebf4fb\");\n",
       "\tviewergrid_173981815286542[0][1].setBackgroundColor(\"#cda9fc\");\n",
       "\tviewergrid_173981815286542[0][2].setBackgroundColor(\"#e6e6e6\");\n",
       "viewergrid_173981815286542[0][2].render();\n",
       "viewergrid_173981815286542[0][1].render();\n",
       "viewergrid_173981815286542[0][0].render();\n",
       "})\n",
       "})\n",
       "})\n",
       "});\n",
       "</script>"
      ]
     },
     "metadata": {},
     "output_type": "display_data"
    },
    {
     "data": {
      "text/plain": [
       "<py3Dmol.view at 0x14407d460>"
      ]
     },
     "execution_count": 7,
     "metadata": {},
     "output_type": "execute_result"
    }
   ],
   "source": [
    "# Visualize the aspirin in 3D\n",
    "\n",
    "import py3Dmol\n",
    "py3Dmol.view()\n",
    "view = py3Dmol.view(width = 680, height = 250, query ='cid:5892', viewergrid = (1,3), linked = True)\n",
    "\n",
    "view.setStyle({'line': {'linewidth': 8}}, viewer = (0,0))\n",
    "view.setStyle({'stick': {'colorscheme':'cyanCarbon'}}, viewer = (0,1))\n",
    "view.setStyle({'sphere': {}}, viewer = (0,2))\n",
    "\n",
    "view.setBackgroundColor('#ebf4fb', viewer = (0,0))\n",
    "view.setBackgroundColor('#cda9fc', viewer = (0,1))\n",
    "view.setBackgroundColor('#e6e6e6', viewer = (0,2))"
   ]
  },
  {
   "cell_type": "markdown",
   "id": "ac2beeae-a3a9-4558-ab1f-73367d4b7e11",
   "metadata": {},
   "source": [
    "## Lipinski's Rule of 5\n",
    "\n",
    "We can use PCP to get the values for Lipinski's rule of 5 for a compound in the PubChem database directly."
   ]
  },
  {
   "cell_type": "code",
   "execution_count": 8,
   "id": "f5cd3540-a36e-469b-85aa-308956d9300a",
   "metadata": {},
   "outputs": [
    {
     "name": "stdout",
     "output_type": "stream",
     "text": [
      "[{'CID': 2244, 'HBondAcceptorCount': 4}] \n",
      " [{'CID': 2244, 'HBondDonorCount': 1}] \n",
      " [{'CID': 2244, 'MolecularWeight': '180.16'}] \n",
      " [{'CID': 2244, 'XLogP': 1.2}]\n"
     ]
    }
   ],
   "source": [
    "HBA = pcp.get_properties(\n",
    "  properties = 'HBondAcceptorCount',\n",
    "  identifier = \"aspirin\",\n",
    "  namespace = \"name\"\n",
    "  )\n",
    "HBD = pcp.get_properties(\n",
    "  properties = 'HBondDonorCount',\n",
    "  identifier = \"aspirin\",\n",
    "  namespace = \"name\"\n",
    "  )\n",
    "MW = pcp.get_properties(\n",
    "  properties = 'MolecularWeight',\n",
    "  identifier = \"aspirin\",\n",
    "  namespace = \"name\"\n",
    "  )\n",
    "XLP = pcp.get_properties(\n",
    "  properties = 'XlogP',\n",
    "  identifier = \"aspirin\",\n",
    "  namespace = \"name\"\n",
    "  )\n",
    "print(HBA, '\\n', HBD, '\\n', MW, '\\n', XLP)"
   ]
  },
  {
   "cell_type": "code",
   "execution_count": 10,
   "id": "f1e9c977-25be-4776-82f0-98494c21dae7",
   "metadata": {},
   "outputs": [],
   "source": [
    "# Do this for a list of compounds and put them in a pandas dataframe\n",
    "properties = ['HBondAcceptorCount', 'HBondDonorCount', 'MolecularWeight','XlogP']"
   ]
  },
  {
   "cell_type": "code",
   "execution_count": 13,
   "id": "413400ce-93f2-4bd0-b8ee-772b3d92dc77",
   "metadata": {},
   "outputs": [],
   "source": [
    "a = pcp.get_properties(properties, 'THC', 'name', as_dataframe = True)"
   ]
  },
  {
   "cell_type": "code",
   "execution_count": 14,
   "id": "25a73194-ab03-4d97-bc88-adfb1f3ea3c0",
   "metadata": {},
   "outputs": [
    {
     "data": {
      "text/html": [
       "<div>\n",
       "<style scoped>\n",
       "    .dataframe tbody tr th:only-of-type {\n",
       "        vertical-align: middle;\n",
       "    }\n",
       "\n",
       "    .dataframe tbody tr th {\n",
       "        vertical-align: top;\n",
       "    }\n",
       "\n",
       "    .dataframe thead th {\n",
       "        text-align: right;\n",
       "    }\n",
       "</style>\n",
       "<table border=\"1\" class=\"dataframe\">\n",
       "  <thead>\n",
       "    <tr style=\"text-align: right;\">\n",
       "      <th></th>\n",
       "      <th>MolecularWeight</th>\n",
       "      <th>XLogP</th>\n",
       "      <th>HBondDonorCount</th>\n",
       "      <th>HBondAcceptorCount</th>\n",
       "    </tr>\n",
       "    <tr>\n",
       "      <th>CID</th>\n",
       "      <th></th>\n",
       "      <th></th>\n",
       "      <th></th>\n",
       "      <th></th>\n",
       "    </tr>\n",
       "  </thead>\n",
       "  <tbody>\n",
       "    <tr>\n",
       "      <th>16078</th>\n",
       "      <td>314.5</td>\n",
       "      <td>7</td>\n",
       "      <td>1</td>\n",
       "      <td>2</td>\n",
       "    </tr>\n",
       "  </tbody>\n",
       "</table>\n",
       "</div>"
      ],
      "text/plain": [
       "      MolecularWeight  XLogP  HBondDonorCount  HBondAcceptorCount\n",
       "CID                                                              \n",
       "16078           314.5      7                1                   2"
      ]
     },
     "execution_count": 14,
     "metadata": {},
     "output_type": "execute_result"
    }
   ],
   "source": [
    "a"
   ]
  },
  {
   "cell_type": "code",
   "execution_count": null,
   "id": "a45893a8-a00d-4529-871b-b5ff7391da70",
   "metadata": {},
   "outputs": [],
   "source": []
  }
 ],
 "metadata": {
  "kernelspec": {
   "display_name": "Python 3 (ipykernel)",
   "language": "python",
   "name": "python3"
  },
  "language_info": {
   "codemirror_mode": {
    "name": "ipython",
    "version": 3
   },
   "file_extension": ".py",
   "mimetype": "text/x-python",
   "name": "python",
   "nbconvert_exporter": "python",
   "pygments_lexer": "ipython3",
   "version": "3.12.2"
  }
 },
 "nbformat": 4,
 "nbformat_minor": 5
}
