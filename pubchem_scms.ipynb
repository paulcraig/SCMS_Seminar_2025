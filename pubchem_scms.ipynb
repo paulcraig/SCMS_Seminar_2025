{
 "cells": [
  {
   "cell_type": "markdown",
   "id": "89ae66cb-f067-47fa-9c5f-1a921751a800",
   "metadata": {},
   "source": [
    "# Getting Started with PubChemPy\n",
    "This notebooks is designed to introduced you to PubChemPy, a library for working with [PubChem](https://www.example.com) resource. To use pubchempy, you'll need to either use the command\n",
    "\n",
    "```pip install pubchempy```\n",
    "\n",
    "on your command line or use the command\n",
    "\n",
    "```!pip install pubchempy```\n",
    "\n",
    "in the first coding cell in this notebook."
   ]
  },
  {
   "cell_type": "code",
   "execution_count": null,
   "id": "1c05cb04-7272-4231-b924-e1c5429a0f80",
   "metadata": {},
   "outputs": [],
   "source": [
    "!pip install pubchempy"
   ]
  },
  {
   "cell_type": "markdown",
   "id": "ccfff721-cdf4-4520-b36b-848627e50fd0",
   "metadata": {},
   "source": [
    "It's not enough to have it installed on your computer. You need to tell the Jupyter notebook to access the library."
   ]
  },
  {
   "cell_type": "code",
   "execution_count": null,
   "id": "8e9863c0-5311-4ed8-9818-3ddb589789a7",
   "metadata": {},
   "outputs": [],
   "source": [
    "import pubchempy as pcp"
   ]
  },
  {
   "cell_type": "markdown",
   "id": "374df2ac-2bcb-4a16-9071-904a670a6955",
   "metadata": {},
   "source": [
    "We are just going to look at a few things that you can do with PubChemPy, which accesses the [PubChem database](https://pubchem.ncbi.nlm.nih.gov/). We'll learn\n",
    "1. How to access a molecule using its chemical ID#.\n",
    "2. How to access a molecule by name\n",
    "3. Some of the things we can learn about the molecule once we have its chemical ID#\n",
    "4. How to visualize the molecule\n",
    "\n",
    "We'll start looking at a molecule called NAD+ that I worked with almost every day in graduate school. It looks like this and its compound ID# is 5892.\n",
    "\n",
    "![2D image of NAD+](images/NAD.png \"The 2D structure of redox cofactor NAD+\")"
   ]
  },
  {
   "cell_type": "code",
   "execution_count": null,
   "id": "187eb77f-3a32-4b2d-8143-0e2493207a87",
   "metadata": {},
   "outputs": [],
   "source": [
    "molecule = pcp.Compound.from_cid(5892)"
   ]
  },
  {
   "cell_type": "code",
   "execution_count": null,
   "id": "ab60f01e-c868-477a-a21e-ebf029018aa5",
   "metadata": {},
   "outputs": [],
   "source": [
    "print(molecule.molecular_weight)"
   ]
  },
  {
   "cell_type": "code",
   "execution_count": null,
   "id": "43125c7e-712d-48c8-9cc2-103d2ddce541",
   "metadata": {},
   "outputs": [],
   "source": [
    "# pcp.get_compounds('<enter the name of a compound here>', 'name', record_type='3d')"
   ]
  },
  {
   "cell_type": "code",
   "execution_count": null,
   "id": "1a4139b3-8bc8-454d-a217-a9af03de8328",
   "metadata": {},
   "outputs": [],
   "source": [
    "print(molecule.iupac_name)\n",
    "print(molecule.molecular_weight)\n",
    "print(molecule.molecular_formula)\n",
    "print(molecule.synonyms)"
   ]
  },
  {
   "cell_type": "code",
   "execution_count": null,
   "id": "a487aaf2-dc60-4376-ab21-d7f852c72449",
   "metadata": {
    "scrolled": true
   },
   "outputs": [],
   "source": [
    "# Visualize the aspirin in 3D\n",
    "\n",
    "import py3Dmol\n",
    "py3Dmol.view()\n",
    "view = py3Dmol.view(width = 680, height = 250, query ='cid:5892', viewergrid = (1,3), linked = True)\n",
    "\n",
    "view.setStyle({'line': {'linewidth': 8}}, viewer = (0,0))\n",
    "view.setStyle({'stick': {'colorscheme':'cyanCarbon'}}, viewer = (0,1))\n",
    "view.setStyle({'sphere': {}}, viewer = (0,2))\n",
    "\n",
    "view.setBackgroundColor('#ebf4fb', viewer = (0,0))\n",
    "view.setBackgroundColor('#cda9fc', viewer = (0,1))\n",
    "view.setBackgroundColor('#e6e6e6', viewer = (0,2))"
   ]
  },
  {
   "cell_type": "markdown",
   "id": "ac2beeae-a3a9-4558-ab1f-73367d4b7e11",
   "metadata": {},
   "source": [
    "## Lipinski's Rule of 5\n",
    "\n",
    "We can use PCP to get the values for Lipinski's rule of 5 for a compound in the PubChem database directly."
   ]
  },
  {
   "cell_type": "code",
   "execution_count": null,
   "id": "f5cd3540-a36e-469b-85aa-308956d9300a",
   "metadata": {},
   "outputs": [],
   "source": [
    "HBA = pcp.get_properties(\n",
    "  properties = 'HBondAcceptorCount',\n",
    "  identifier = \"aspirin\",\n",
    "  namespace = \"name\"\n",
    "  )\n",
    "HBD = pcp.get_properties(\n",
    "  properties = 'HBondDonorCount',\n",
    "  identifier = \"aspirin\",\n",
    "  namespace = \"name\"\n",
    "  )\n",
    "MW = pcp.get_properties(\n",
    "  properties = 'MolecularWeight',\n",
    "  identifier = \"aspirin\",\n",
    "  namespace = \"name\"\n",
    "  )\n",
    "XLP = pcp.get_properties(\n",
    "  properties = 'XlogP',\n",
    "  identifier = \"aspirin\",\n",
    "  namespace = \"name\"\n",
    "  )\n",
    "print(HBA, '\\n', HBD, '\\n', MW, '\\n', XLP)"
   ]
  },
  {
   "cell_type": "code",
   "execution_count": null,
   "id": "f1e9c977-25be-4776-82f0-98494c21dae7",
   "metadata": {},
   "outputs": [],
   "source": [
    "# Do this for a list of compounds and put them in a pandas dataframe\n"
   ]
  },
  {
   "cell_type": "code",
   "execution_count": null,
   "id": "413400ce-93f2-4bd0-b8ee-772b3d92dc77",
   "metadata": {},
   "outputs": [],
   "source": [
    "a = pcp.get_properties(properties, 'alanine', 'name', as_dataframe = True)"
   ]
  },
  {
   "cell_type": "code",
   "execution_count": null,
   "id": "25a73194-ab03-4d97-bc88-adfb1f3ea3c0",
   "metadata": {},
   "outputs": [],
   "source": []
  }
 ],
 "metadata": {
  "kernelspec": {
   "display_name": "Python 3 (ipykernel)",
   "language": "python",
   "name": "python3"
  },
  "language_info": {
   "codemirror_mode": {
    "name": "ipython",
    "version": 3
   },
   "file_extension": ".py",
   "mimetype": "text/x-python",
   "name": "python",
   "nbconvert_exporter": "python",
   "pygments_lexer": "ipython3",
   "version": "3.12.2"
  }
 },
 "nbformat": 4,
 "nbformat_minor": 5
}
