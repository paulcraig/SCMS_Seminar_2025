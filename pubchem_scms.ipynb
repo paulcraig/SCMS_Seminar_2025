{
 "cells": [
  {
   "cell_type": "markdown",
   "id": "89ae66cb-f067-47fa-9c5f-1a921751a800",
   "metadata": {},
   "source": [
    "# Getting Started with PubChemPy\n",
    "This notebooks is designed to introduced you to PubChemPy, a library for working with [PubChem](https://www.example.com) resource. To use pubchempy, you'll need to either use the command\n",
    "\n",
    "```pip install pubchempy```\n",
    "\n",
    "on your command line or use the command\n",
    "\n",
    "```!pip install pubchempy```\n",
    "\n",
    "in the first coding cell in this notebook."
   ]
  },
  {
   "cell_type": "code",
   "execution_count": null,
   "id": "1c05cb04-7272-4231-b924-e1c5429a0f80",
   "metadata": {},
   "outputs": [],
   "source": [
    "!pip install pubchempy"
   ]
  },
  {
   "cell_type": "markdown",
   "id": "ccfff721-cdf4-4520-b36b-848627e50fd0",
   "metadata": {},
   "source": [
    "It's not enough to have it installed on your computer. You need to tell the Jupyter notebook to access the library."
   ]
  },
  {
   "cell_type": "code",
   "execution_count": 2,
   "id": "8e9863c0-5311-4ed8-9818-3ddb589789a7",
   "metadata": {},
   "outputs": [],
   "source": [
    "import pubchempy as pcp"
   ]
  },
  {
   "cell_type": "markdown",
   "id": "374df2ac-2bcb-4a16-9071-904a670a6955",
   "metadata": {},
   "source": [
    "We are just going to look at a few things that you can do with PubChemPy, which accesses the [PubChem database](https://pubchem.ncbi.nlm.nih.gov/). We'll learn\n",
    "1. How to access a molecule using its chemical ID#.\n",
    "2. How to access a molecule by name\n",
    "3. Some of the things we can learn about the molecule once we have its chemical ID#\n",
    "4. How to visualize the molecule\n",
    "\n",
    "We'll start looking at a molecule called NAD+ that I worked with almost every day in graduate school. It looks like this and its compound ID# is 5892.\n",
    "\n",
    "![2D image of NAD+](images/NAD.png \"The 2D structure of redox cofactor NAD+\")"
   ]
  },
  {
   "cell_type": "code",
   "execution_count": null,
   "id": "187eb77f-3a32-4b2d-8143-0e2493207a87",
   "metadata": {},
   "outputs": [],
   "source": [
    "molecule = pcp.Compound.from_cid(5892)"
   ]
  },
  {
   "cell_type": "code",
   "execution_count": null,
   "id": "ab60f01e-c868-477a-a21e-ebf029018aa5",
   "metadata": {},
   "outputs": [],
   "source": [
    "print(molecule.molecular_weight)"
   ]
  },
  {
   "cell_type": "code",
   "execution_count": null,
   "id": "43125c7e-712d-48c8-9cc2-103d2ddce541",
   "metadata": {},
   "outputs": [],
   "source": [
    "# pcp.get_compounds('<enter the name of a compound here>', 'name', record_type='3d')"
   ]
  },
  {
   "cell_type": "code",
   "execution_count": null,
   "id": "1a4139b3-8bc8-454d-a217-a9af03de8328",
   "metadata": {},
   "outputs": [],
   "source": [
    "print(molecule.iupac_name)\n",
    "print(molecule.molecular_weight)\n",
    "print(molecule.molecular_formula)\n",
    "print(molecule.synonyms)"
   ]
  },
  {
   "cell_type": "code",
   "execution_count": null,
   "id": "a487aaf2-dc60-4376-ab21-d7f852c72449",
   "metadata": {
    "scrolled": true
   },
   "outputs": [],
   "source": [
    "# Visualize the aspirin in 3D\n",
    "\n",
    "import py3Dmol\n",
    "py3Dmol.view()\n",
    "view = py3Dmol.view(width = 680, height = 250, query ='cid:5892', viewergrid = (1,3), linked = True)\n",
    "\n",
    "view.setStyle({'line': {'linewidth': 8}}, viewer = (0,0))\n",
    "view.setStyle({'stick': {'colorscheme':'cyanCarbon'}}, viewer = (0,1))\n",
    "view.setStyle({'sphere': {}}, viewer = (0,2))\n",
    "\n",
    "view.setBackgroundColor('#ebf4fb', viewer = (0,0))\n",
    "view.setBackgroundColor('#cda9fc', viewer = (0,1))\n",
    "view.setBackgroundColor('#e6e6e6', viewer = (0,2))"
   ]
  },
  {
   "cell_type": "markdown",
   "id": "ac2beeae-a3a9-4558-ab1f-73367d4b7e11",
   "metadata": {},
   "source": [
    "## Lipinski's Rule of 5\n",
    "\n",
    "We can use PCP to get the values for Lipinski's rule of 5 for a compound in the PubChem database directly."
   ]
  },
  {
   "cell_type": "code",
   "execution_count": null,
   "id": "f5cd3540-a36e-469b-85aa-308956d9300a",
   "metadata": {},
   "outputs": [],
   "source": [
    "HBA = pcp.get_properties(\n",
    "  properties = 'HBondAcceptorCount',\n",
    "  identifier = \"aspirin\",\n",
    "  namespace = \"name\"\n",
    "  )\n",
    "HBD = pcp.get_properties(\n",
    "  properties = 'HBondDonorCount',\n",
    "  identifier = \"aspirin\",\n",
    "  namespace = \"name\"\n",
    "  )\n",
    "MW = pcp.get_properties(\n",
    "  properties = 'MolecularWeight',\n",
    "  identifier = \"aspirin\",\n",
    "  namespace = \"name\"\n",
    "  )\n",
    "XLP = pcp.get_properties(\n",
    "  properties = 'XlogP',\n",
    "  identifier = \"aspirin\",\n",
    "  namespace = \"name\"\n",
    "  )\n",
    "print(HBA, '\\n', HBD, '\\n', MW, '\\n', XLP)"
   ]
  },
  {
   "cell_type": "code",
   "execution_count": 21,
   "id": "f1e9c977-25be-4776-82f0-98494c21dae7",
   "metadata": {},
   "outputs": [],
   "source": [
    "# Create a list variable to hold all of the properties you want to explore\n",
    "# properties = ['HBondAcceptorCount', 'HBondDonorCount', 'MolecularWeight', 'XlogP']\n",
    "# properties2 = ['MolecularFormula', 'MolecularWeight', 'CanonicalSMILES', 'IsomericSMILES', 'InChI', 'InChIKey', 'IUPACName', 'XLogP', 'ExactMass', 'MonoisotopicMass', 'TPSA', 'Complexity', 'Charge', 'HBondDonorCount', 'HBondAcceptorCount', 'RotatableBondCount', 'HeavyAtomCount', 'IsotopeAtomCount', 'AtomStereoCount', 'DefinedAtomStereoCount', 'UndefinedAtomStereoCount', 'BondStereoCount', 'DefinedBondStereoCount', 'UndefinedBondStereoCount', 'CovalentUnitCount', 'Volume3D', 'XStericQuadrupole3D', 'YStericQuadrupole3D', 'ZStericQuadrupole3D', 'FeatureCount3D', 'FeatureAcceptorCount3D', 'FeatureDonorCount3D', 'FeatureAnionCount3D', 'FeatureCationCount3D', 'FeatureRingCount3D', 'FeatureHydrophobeCount3D', 'ConformerModelRMSD3D', 'EffectiveRotorCount3D', 'ConformerCount3D']"
   ]
  },
  {
   "cell_type": "code",
   "execution_count": 19,
   "id": "413400ce-93f2-4bd0-b8ee-772b3d92dc77",
   "metadata": {},
   "outputs": [
    {
     "data": {
      "text/html": [
       "<div>\n",
       "<style scoped>\n",
       "    .dataframe tbody tr th:only-of-type {\n",
       "        vertical-align: middle;\n",
       "    }\n",
       "\n",
       "    .dataframe tbody tr th {\n",
       "        vertical-align: top;\n",
       "    }\n",
       "\n",
       "    .dataframe thead th {\n",
       "        text-align: right;\n",
       "    }\n",
       "</style>\n",
       "<table border=\"1\" class=\"dataframe\">\n",
       "  <thead>\n",
       "    <tr style=\"text-align: right;\">\n",
       "      <th></th>\n",
       "      <th>MolecularWeight</th>\n",
       "      <th>XLogP</th>\n",
       "      <th>HBondDonorCount</th>\n",
       "      <th>HBondAcceptorCount</th>\n",
       "    </tr>\n",
       "    <tr>\n",
       "      <th>CID</th>\n",
       "      <th></th>\n",
       "      <th></th>\n",
       "      <th></th>\n",
       "      <th></th>\n",
       "    </tr>\n",
       "  </thead>\n",
       "  <tbody>\n",
       "    <tr>\n",
       "      <th>2244</th>\n",
       "      <td>180.16</td>\n",
       "      <td>1.2</td>\n",
       "      <td>1</td>\n",
       "      <td>4</td>\n",
       "    </tr>\n",
       "  </tbody>\n",
       "</table>\n",
       "</div>"
      ],
      "text/plain": [
       "     MolecularWeight  XLogP  HBondDonorCount  HBondAcceptorCount\n",
       "CID                                                             \n",
       "2244          180.16    1.2                1                   4"
      ]
     },
     "execution_count": 19,
     "metadata": {},
     "output_type": "execute_result"
    }
   ],
   "source": [
    "Lip5 = pcp.get_properties(properties, 'aspirin', 'name', as_dataframe = True)\n",
    "Lip5"
   ]
  },
  {
   "cell_type": "code",
   "execution_count": 23,
   "id": "a45893a8-a00d-4529-871b-b5ff7391da70",
   "metadata": {},
   "outputs": [
    {
     "data": {
      "text/html": [
       "<div>\n",
       "<style scoped>\n",
       "    .dataframe tbody tr th:only-of-type {\n",
       "        vertical-align: middle;\n",
       "    }\n",
       "\n",
       "    .dataframe tbody tr th {\n",
       "        vertical-align: top;\n",
       "    }\n",
       "\n",
       "    .dataframe thead th {\n",
       "        text-align: right;\n",
       "    }\n",
       "</style>\n",
       "<table border=\"1\" class=\"dataframe\">\n",
       "  <thead>\n",
       "    <tr style=\"text-align: right;\">\n",
       "      <th></th>\n",
       "      <th>MolecularFormula</th>\n",
       "      <th>MolecularWeight</th>\n",
       "      <th>CanonicalSMILES</th>\n",
       "      <th>IsomericSMILES</th>\n",
       "      <th>InChI</th>\n",
       "      <th>InChIKey</th>\n",
       "      <th>IUPACName</th>\n",
       "      <th>XLogP</th>\n",
       "      <th>ExactMass</th>\n",
       "      <th>MonoisotopicMass</th>\n",
       "      <th>...</th>\n",
       "      <th>FeatureCount3D</th>\n",
       "      <th>FeatureAcceptorCount3D</th>\n",
       "      <th>FeatureDonorCount3D</th>\n",
       "      <th>FeatureAnionCount3D</th>\n",
       "      <th>FeatureCationCount3D</th>\n",
       "      <th>FeatureRingCount3D</th>\n",
       "      <th>FeatureHydrophobeCount3D</th>\n",
       "      <th>ConformerModelRMSD3D</th>\n",
       "      <th>EffectiveRotorCount3D</th>\n",
       "      <th>ConformerCount3D</th>\n",
       "    </tr>\n",
       "    <tr>\n",
       "      <th>CID</th>\n",
       "      <th></th>\n",
       "      <th></th>\n",
       "      <th></th>\n",
       "      <th></th>\n",
       "      <th></th>\n",
       "      <th></th>\n",
       "      <th></th>\n",
       "      <th></th>\n",
       "      <th></th>\n",
       "      <th></th>\n",
       "      <th></th>\n",
       "      <th></th>\n",
       "      <th></th>\n",
       "      <th></th>\n",
       "      <th></th>\n",
       "      <th></th>\n",
       "      <th></th>\n",
       "      <th></th>\n",
       "      <th></th>\n",
       "      <th></th>\n",
       "      <th></th>\n",
       "    </tr>\n",
       "  </thead>\n",
       "  <tbody>\n",
       "    <tr>\n",
       "      <th>2244</th>\n",
       "      <td>C9H8O4</td>\n",
       "      <td>180.16</td>\n",
       "      <td>CC(=O)OC1=CC=CC=C1C(=O)O</td>\n",
       "      <td>CC(=O)OC1=CC=CC=C1C(=O)O</td>\n",
       "      <td>InChI=1S/C9H8O4/c1-6(10)13-8-5-3-2-4-7(8)9(11)...</td>\n",
       "      <td>BSYNRYMUTXBXSQ-UHFFFAOYSA-N</td>\n",
       "      <td>2-acetyloxybenzoic acid</td>\n",
       "      <td>1.2</td>\n",
       "      <td>180.04225873</td>\n",
       "      <td>180.04225873</td>\n",
       "      <td>...</td>\n",
       "      <td>5</td>\n",
       "      <td>3</td>\n",
       "      <td>0</td>\n",
       "      <td>1</td>\n",
       "      <td>0</td>\n",
       "      <td>1</td>\n",
       "      <td>0</td>\n",
       "      <td>0.6</td>\n",
       "      <td>3</td>\n",
       "      <td>10</td>\n",
       "    </tr>\n",
       "  </tbody>\n",
       "</table>\n",
       "<p>1 rows × 39 columns</p>\n",
       "</div>"
      ],
      "text/plain": [
       "     MolecularFormula MolecularWeight           CanonicalSMILES  \\\n",
       "CID                                                               \n",
       "2244           C9H8O4          180.16  CC(=O)OC1=CC=CC=C1C(=O)O   \n",
       "\n",
       "                IsomericSMILES  \\\n",
       "CID                              \n",
       "2244  CC(=O)OC1=CC=CC=C1C(=O)O   \n",
       "\n",
       "                                                  InChI  \\\n",
       "CID                                                       \n",
       "2244  InChI=1S/C9H8O4/c1-6(10)13-8-5-3-2-4-7(8)9(11)...   \n",
       "\n",
       "                         InChIKey                IUPACName  XLogP  \\\n",
       "CID                                                                 \n",
       "2244  BSYNRYMUTXBXSQ-UHFFFAOYSA-N  2-acetyloxybenzoic acid    1.2   \n",
       "\n",
       "         ExactMass MonoisotopicMass  ...  FeatureCount3D  \\\n",
       "CID                                  ...                   \n",
       "2244  180.04225873     180.04225873  ...               5   \n",
       "\n",
       "      FeatureAcceptorCount3D  FeatureDonorCount3D  FeatureAnionCount3D  \\\n",
       "CID                                                                      \n",
       "2244                       3                    0                    1   \n",
       "\n",
       "      FeatureCationCount3D  FeatureRingCount3D  FeatureHydrophobeCount3D  \\\n",
       "CID                                                                        \n",
       "2244                     0                   1                         0   \n",
       "\n",
       "      ConformerModelRMSD3D  EffectiveRotorCount3D  ConformerCount3D  \n",
       "CID                                                                  \n",
       "2244                   0.6                      3                10  \n",
       "\n",
       "[1 rows x 39 columns]"
      ]
     },
     "execution_count": 23,
     "metadata": {},
     "output_type": "execute_result"
    }
   ],
   "source": [
    "AllProps = pcp.get_properties(properties2, 'aspirin', 'name', as_dataframe = True)\n",
    "AllProps"
   ]
  },
  {
   "cell_type": "code",
   "execution_count": null,
   "id": "6ef9d71f-cdc3-4503-b770-0d26ec7388a3",
   "metadata": {},
   "outputs": [],
   "source": []
  }
 ],
 "metadata": {
  "kernelspec": {
   "display_name": "Python 3 (ipykernel)",
   "language": "python",
   "name": "python3"
  },
  "language_info": {
   "codemirror_mode": {
    "name": "ipython",
    "version": 3
   },
   "file_extension": ".py",
   "mimetype": "text/x-python",
   "name": "python",
   "nbconvert_exporter": "python",
   "pygments_lexer": "ipython3",
   "version": "3.12.2"
  }
 },
 "nbformat": 4,
 "nbformat_minor": 5
}
